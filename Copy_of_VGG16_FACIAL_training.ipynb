{
  "cells": [
    {
      "cell_type": "markdown",
      "metadata": {
        "id": "view-in-github",
        "colab_type": "text"
      },
      "source": [
        "<a href=\"https://colab.research.google.com/github/BingquanCai/CS523_FinalProject/blob/main/Copy_of_VGG16_FACIAL_training.ipynb\" target=\"_parent\"><img src=\"https://colab.research.google.com/assets/colab-badge.svg\" alt=\"Open In Colab\"/></a>"
      ]
    },
    {
      "cell_type": "code",
      "execution_count": null,
      "metadata": {
        "colab": {
          "base_uri": "https://localhost:8080/"
        },
        "id": "cLHPAY5PlxL4",
        "outputId": "bdf0d945-e1e2-4d83-b711-e501cf8c1ea5"
      },
      "outputs": [
        {
          "name": "stdout",
          "output_type": "stream",
          "text": [
            "Mounted at /content/drive\n"
          ]
        }
      ],
      "source": [
        "import pandas as pd\n",
        "from google.colab import drive\n",
        "drive.mount('/content/drive')"
      ]
    },
    {
      "cell_type": "markdown",
      "metadata": {
        "id": "XVldPhGMnlmD"
      },
      "source": [
        "# New section"
      ]
    },
    {
      "cell_type": "code",
      "execution_count": null,
      "metadata": {
        "colab": {
          "base_uri": "https://localhost:8080/"
        },
        "id": "3wEuXeLyxq4M",
        "outputId": "08657e72-2fad-40bf-aae3-b27ce43cd8a1"
      },
      "outputs": [
        {
          "name": "stdout",
          "output_type": "stream",
          "text": [
            "Looking in indexes: https://pypi.org/simple, https://us-python.pkg.dev/colab-wheels/public/simple/\n",
            "Requirement already satisfied: kaggle in /usr/local/lib/python3.7/dist-packages (1.5.12)\n",
            "Requirement already satisfied: python-dateutil in /usr/local/lib/python3.7/dist-packages (from kaggle) (2.8.2)\n",
            "Requirement already satisfied: requests in /usr/local/lib/python3.7/dist-packages (from kaggle) (2.23.0)\n",
            "Requirement already satisfied: python-slugify in /usr/local/lib/python3.7/dist-packages (from kaggle) (6.1.2)\n",
            "Requirement already satisfied: six>=1.10 in /usr/local/lib/python3.7/dist-packages (from kaggle) (1.15.0)\n",
            "Requirement already satisfied: urllib3 in /usr/local/lib/python3.7/dist-packages (from kaggle) (1.24.3)\n",
            "Requirement already satisfied: certifi in /usr/local/lib/python3.7/dist-packages (from kaggle) (2022.6.15)\n",
            "Requirement already satisfied: tqdm in /usr/local/lib/python3.7/dist-packages (from kaggle) (4.64.0)\n",
            "Requirement already satisfied: text-unidecode>=1.3 in /usr/local/lib/python3.7/dist-packages (from python-slugify->kaggle) (1.3)\n",
            "Requirement already satisfied: chardet<4,>=3.0.2 in /usr/local/lib/python3.7/dist-packages (from requests->kaggle) (3.0.4)\n",
            "Requirement already satisfied: idna<3,>=2.5 in /usr/local/lib/python3.7/dist-packages (from requests->kaggle) (2.10)\n"
          ]
        }
      ],
      "source": [
        "! pip install kaggle"
      ]
    },
    {
      "cell_type": "code",
      "execution_count": null,
      "metadata": {
        "id": "1xoDYTwbxtY8"
      },
      "outputs": [],
      "source": [
        "! mkdir ~/.kaggle"
      ]
    },
    {
      "cell_type": "code",
      "execution_count": null,
      "metadata": {
        "id": "lQB5N46hxwSm"
      },
      "outputs": [],
      "source": [
        "! cp kaggle.json ~/.kaggle/"
      ]
    },
    {
      "cell_type": "code",
      "execution_count": null,
      "metadata": {
        "id": "nCFfzxIhxy9S"
      },
      "outputs": [],
      "source": [
        "! chmod 600 ~/.kaggle/kaggle.json"
      ]
    },
    {
      "cell_type": "code",
      "execution_count": null,
      "metadata": {
        "colab": {
          "base_uri": "https://localhost:8080/"
        },
        "id": "Eq4-wVRUx4ph",
        "outputId": "f29fc8f9-2a51-423c-a584-15a1fe84aaca"
      },
      "outputs": [
        {
          "name": "stdout",
          "output_type": "stream",
          "text": [
            "Downloading fer2013.zip to /content\n",
            " 58% 35.0M/60.3M [00:00<00:00, 65.9MB/s]\n",
            "100% 60.3M/60.3M [00:00<00:00, 102MB/s] \n"
          ]
        }
      ],
      "source": [
        "! kaggle datasets download msambare/fer2013"
      ]
    },
    {
      "cell_type": "code",
      "execution_count": null,
      "metadata": {
        "colab": {
          "base_uri": "https://localhost:8080/"
        },
        "id": "rBDU1uFdy1Cl",
        "outputId": "b042699f-cfad-4593-f4dd-2b6fa2102b2f"
      },
      "outputs": [
        {
          "name": "stdout",
          "output_type": "stream",
          "text": [
            "Done\n"
          ]
        }
      ],
      "source": [
        "from zipfile import ZipFile\n",
        "file_name = \"fer2013.zip\"\n",
        "\n",
        "with ZipFile(file_name, 'r') as zip:\n",
        "  zip.extractall()\n",
        "  print(\"Done\")"
      ]
    },
    {
      "cell_type": "code",
      "execution_count": null,
      "metadata": {
        "id": "41avy3l60pf3"
      },
      "outputs": [],
      "source": [
        "# dependencies\n",
        "import numpy as np\n",
        "import pandas as pd\n",
        "import matplotlib.pyplot as plt\n",
        "import seaborn as sn\n",
        "import skimage.io\n",
        "import keras.backend as K\n",
        "import tensorflow as tf\n",
        "from tensorflow.keras.preprocessing.image import ImageDataGenerator\n",
        "from tensorflow.keras.applications import VGG16\n",
        "from tensorflow.keras.layers import Dense, Flatten, Dropout,BatchNormalization ,Activation\n",
        "from tensorflow.keras.models import Model, Sequential\n",
        "from keras.applications.nasnet import NASNetLarge\n",
        "from tensorflow.keras.callbacks import ReduceLROnPlateau, ModelCheckpoint, EarlyStopping\n",
        "from tensorflow.keras.optimizers import Adam\n"
      ]
    },
    {
      "cell_type": "code",
      "execution_count": null,
      "metadata": {
        "id": "v5uGuPoT04Tb"
      },
      "outputs": [],
      "source": [
        "train_dir = 'train'\n",
        "val_dir = 'test'\n",
        "\n",
        "train_datagen = ImageDataGenerator(rescale = 1./255,\n",
        "                                   validation_split = 0.2,\n",
        "                                  \n",
        "        rotation_range=5,\n",
        "        width_shift_range=0.2,\n",
        "        height_shift_range=0.2,\n",
        "        shear_range=0.2,\n",
        "        #zoom_range=0.2,\n",
        "        horizontal_flip=True,\n",
        "        vertical_flip=True,\n",
        "        fill_mode='nearest', \n",
        "        featurewise_center=True,\n",
        "        featurewise_std_normalization=True\n",
        "       )\n",
        "\n",
        "valid_datagen = ImageDataGenerator(rescale = 1./255,\n",
        "                                  \n",
        "                                  validation_split = 0.2)\n",
        "\n",
        "test_datagen  = ImageDataGenerator(rescale = 1./255)\n"
      ]
    },
    {
      "cell_type": "code",
      "execution_count": null,
      "metadata": {
        "colab": {
          "base_uri": "https://localhost:8080/"
        },
        "id": "b9CwN67N1Chb",
        "outputId": "a73854df-49db-475d-d6c0-57ab1fb7238a"
      },
      "outputs": [
        {
          "name": "stdout",
          "output_type": "stream",
          "text": [
            "Found 22968 images belonging to 7 classes.\n"
          ]
        }
      ],
      "source": [
        "# TRAINING The dataset \n",
        "train_dataset  = train_datagen.flow_from_directory(directory = train_dir,\n",
        "                                                   target_size = (48,48),\n",
        "                                                   class_mode = 'categorical',\n",
        "                                                   subset = 'training',\n",
        "                                                   batch_size = 128)\n"
      ]
    },
    {
      "cell_type": "code",
      "execution_count": null,
      "metadata": {
        "colab": {
          "base_uri": "https://localhost:8080/"
        },
        "id": "Y6FNWYpM1Y3-",
        "outputId": "dc43e069-aea6-4cca-b920-5e177f7d18f1"
      },
      "outputs": [
        {
          "name": "stdout",
          "output_type": "stream",
          "text": [
            "Found 5741 images belonging to 7 classes.\n"
          ]
        }
      ],
      "source": [
        "#validation the dataset\n",
        "valid_dataset = valid_datagen.flow_from_directory(directory = train_dir,\n",
        "                                                  target_size = (48,48),\n",
        "                                                  class_mode = 'categorical',\n",
        "                                                  subset = 'validation',\n",
        "                                                  batch_size = 128)"
      ]
    },
    {
      "cell_type": "code",
      "execution_count": null,
      "metadata": {
        "colab": {
          "base_uri": "https://localhost:8080/"
        },
        "id": "p1jvIcps1lAv",
        "outputId": "9d55c54e-7c65-4128-c5c0-33f37da3de3f"
      },
      "outputs": [
        {
          "name": "stdout",
          "output_type": "stream",
          "text": [
            "Found 7178 images belonging to 7 classes.\n"
          ]
        }
      ],
      "source": [
        "#test dataset for the data\n",
        "test_dataset = test_datagen.flow_from_directory(directory = val_dir,\n",
        "                                                  target_size = (48,48),\n",
        "                                                  class_mode = 'categorical',\n",
        "                                                  batch_size = 128)\n"
      ]
    },
    {
      "cell_type": "code",
      "execution_count": null,
      "metadata": {
        "colab": {
          "base_uri": "https://localhost:8080/"
        },
        "id": "9PPn2NiP106O",
        "outputId": "729509d6-a148-44fd-fd45-721dc911cbb2"
      },
      "outputs": [
        {
          "name": "stdout",
          "output_type": "stream",
          "text": [
            "Downloading data from https://storage.googleapis.com/tensorflow/keras-applications/vgg16/vgg16_weights_tf_dim_ordering_tf_kernels_notop.h5\n",
            "58892288/58889256 [==============================] - 0s 0us/step\n",
            "58900480/58889256 [==============================] - 0s 0us/step\n"
          ]
        }
      ],
      "source": [
        "base_model = tf.keras.applications.VGG16(input_shape=(48,48,3),include_top=False,weights=\"imagenet\")"
      ]
    },
    {
      "cell_type": "code",
      "execution_count": null,
      "metadata": {
        "id": "D-79Cg3s139t"
      },
      "outputs": [],
      "source": [
        "# Freezing Layers\n",
        "\n",
        "for layer in base_model.layers[:-4]:\n",
        "    layer.trainable=False"
      ]
    },
    {
      "cell_type": "code",
      "execution_count": null,
      "metadata": {
        "id": "SZJ5jGU-14x8"
      },
      "outputs": [],
      "source": [
        "# Building Model\n",
        "\n",
        "model=Sequential()\n",
        "model.add(base_model)\n",
        "model.add(Dropout(0.5))\n",
        "model.add(Flatten())\n",
        "model.add(BatchNormalization())\n",
        "model.add(Dense(32,kernel_initializer='he_uniform'))\n",
        "model.add(BatchNormalization())\n",
        "model.add(Activation('relu'))\n",
        "model.add(Dropout(0.5))\n",
        "model.add(Dense(32,kernel_initializer='he_uniform'))\n",
        "model.add(BatchNormalization())\n",
        "model.add(Activation('relu'))\n",
        "model.add(Dropout(0.5))\n",
        "model.add(Dense(32,kernel_initializer='he_uniform'))\n",
        "model.add(BatchNormalization())\n",
        "model.add(Activation('relu'))\n",
        "model.add(Dense(7,activation='softmax'))"
      ]
    },
    {
      "cell_type": "code",
      "execution_count": null,
      "metadata": {
        "colab": {
          "base_uri": "https://localhost:8080/"
        },
        "id": "9pRWTq6e1-Jm",
        "outputId": "7ee8be0e-de5f-4a90-d29d-6af86c0d979c"
      },
      "outputs": [
        {
          "name": "stdout",
          "output_type": "stream",
          "text": [
            "Model: \"sequential\"\n",
            "_________________________________________________________________\n",
            " Layer (type)                Output Shape              Param #   \n",
            "=================================================================\n",
            " vgg16 (Functional)          (None, 1, 1, 512)         14714688  \n",
            "                                                                 \n",
            " dropout (Dropout)           (None, 1, 1, 512)         0         \n",
            "                                                                 \n",
            " flatten (Flatten)           (None, 512)               0         \n",
            "                                                                 \n",
            " batch_normalization (BatchN  (None, 512)              2048      \n",
            " ormalization)                                                   \n",
            "                                                                 \n",
            " dense (Dense)               (None, 32)                16416     \n",
            "                                                                 \n",
            " batch_normalization_1 (Batc  (None, 32)               128       \n",
            " hNormalization)                                                 \n",
            "                                                                 \n",
            " activation (Activation)     (None, 32)                0         \n",
            "                                                                 \n",
            " dropout_1 (Dropout)         (None, 32)                0         \n",
            "                                                                 \n",
            " dense_1 (Dense)             (None, 32)                1056      \n",
            "                                                                 \n",
            " batch_normalization_2 (Batc  (None, 32)               128       \n",
            " hNormalization)                                                 \n",
            "                                                                 \n",
            " activation_1 (Activation)   (None, 32)                0         \n",
            "                                                                 \n",
            " dropout_2 (Dropout)         (None, 32)                0         \n",
            "                                                                 \n",
            " dense_2 (Dense)             (None, 32)                1056      \n",
            "                                                                 \n",
            " batch_normalization_3 (Batc  (None, 32)               128       \n",
            " hNormalization)                                                 \n",
            "                                                                 \n",
            " activation_2 (Activation)   (None, 32)                0         \n",
            "                                                                 \n",
            " dense_3 (Dense)             (None, 7)                 231       \n",
            "                                                                 \n",
            "=================================================================\n",
            "Total params: 14,735,879\n",
            "Trainable params: 7,099,399\n",
            "Non-trainable params: 7,636,480\n",
            "_________________________________________________________________\n"
          ]
        }
      ],
      "source": [
        "# Model Summary\n",
        "\n",
        "model.summary()"
      ]
    },
    {
      "cell_type": "code",
      "execution_count": null,
      "metadata": {
        "id": "NCueFTR81_uN"
      },
      "outputs": [],
      "source": [
        "#\n",
        "def f1_score(y_true, y_pred): #taken from old keras source code\n",
        "    true_positives = K.sum(K.round(K.clip(y_true * y_pred, 0, 1)))\n",
        "    possible_positives = K.sum(K.round(K.clip(y_true, 0, 1)))\n",
        "    predicted_positives = K.sum(K.round(K.clip(y_pred, 0, 1)))\n",
        "    precision = true_positives / (predicted_positives + K.epsilon())\n",
        "    recall = true_positives / (possible_positives + K.epsilon())\n",
        "    f1_val = 2*(precision*recall)/(precision+recall+K.epsilon())\n",
        "    \n",
        "    return f1_val"
      ]
    },
    {
      "cell_type": "code",
      "execution_count": null,
      "metadata": {
        "id": "1H3O6UkR2Bqd"
      },
      "outputs": [],
      "source": [
        "## List of metrics to monitor\n",
        "# f1_score is used in the metrics\n",
        "METRICS = [\n",
        "      tf.keras.metrics.BinaryAccuracy(name='accuracy'),\n",
        "      tf.keras.metrics.Precision(name='precision'),\n",
        "      tf.keras.metrics.Recall(name='recall'),  \n",
        "      tf.keras.metrics.AUC(name='auc'),\n",
        "        f1_score,\n",
        "]"
      ]
    },
    {
      "cell_type": "code",
      "execution_count": null,
      "metadata": {
        "id": "FyY_VDYI2DKA"
      },
      "outputs": [],
      "source": [
        "\n",
        "lrd = ReduceLROnPlateau(monitor = 'val_loss',patience = 20,verbose = 1,factor = 0.50, min_lr = 1e-10)\n",
        "\n",
        "mcp = ModelCheckpoint('model.h5')\n",
        "\n",
        "es = EarlyStopping(verbose=1, patience=20)\n"
      ]
    },
    {
      "cell_type": "code",
      "execution_count": null,
      "metadata": {
        "id": "rY-lh-GF2EXc"
      },
      "outputs": [],
      "source": [
        "#specify the training configuration with optimizer, loss and metrics\n",
        "\n",
        "model.compile(optimizer='adam', loss='categorical_crossentropy',metrics=METRICS)"
      ]
    },
    {
      "cell_type": "code",
      "execution_count": null,
      "metadata": {
        "colab": {
          "background_save": true,
          "base_uri": "https://localhost:8080/"
        },
        "id": "_h2Mls9Q2FzU",
        "outputId": "f5405c08-98d1-4ac0-8d35-e0357f2894a4"
      },
      "outputs": [
        {
          "name": "stderr",
          "output_type": "stream",
          "text": [
            "/usr/local/lib/python3.7/dist-packages/keras_preprocessing/image/image_data_generator.py:720: UserWarning: This ImageDataGenerator specifies `featurewise_center`, but it hasn't been fit on any training data. Fit it first by calling `.fit(numpy_data)`.\n",
            "  warnings.warn('This ImageDataGenerator specifies '\n",
            "/usr/local/lib/python3.7/dist-packages/keras_preprocessing/image/image_data_generator.py:728: UserWarning: This ImageDataGenerator specifies `featurewise_std_normalization`, but it hasn't been fit on any training data. Fit it first by calling `.fit(numpy_data)`.\n",
            "  warnings.warn('This ImageDataGenerator specifies '\n"
          ]
        },
        {
          "name": "stdout",
          "output_type": "stream",
          "text": [
            "Epoch 1/600\n",
            "180/180 [==============================] - 876s 5s/step - loss: 2.0164 - accuracy: 0.8503 - precision: 0.2183 - recall: 0.0186 - auc: 0.5964 - f1_score: 0.0325 - val_loss: 1.8589 - val_accuracy: 0.8571 - val_precision: 0.0000e+00 - val_recall: 0.0000e+00 - val_auc: 0.5889 - val_f1_score: 0.0000e+00 - lr: 0.0010\n",
            "Epoch 2/600\n",
            "180/180 [==============================] - 864s 5s/step - loss: 1.8625 - accuracy: 0.8565 - precision: 0.3156 - recall: 0.0036 - auc: 0.6221 - f1_score: 0.0070 - val_loss: 1.8206 - val_accuracy: 0.8571 - val_precision: 0.0000e+00 - val_recall: 0.0000e+00 - val_auc: 0.6509 - val_f1_score: 0.0000e+00 - lr: 0.0010\n",
            "Epoch 3/600\n",
            "180/180 [==============================] - 864s 5s/step - loss: 1.8263 - accuracy: 0.8570 - precision: 0.3768 - recall: 0.0011 - auc: 0.6408 - f1_score: 0.0022 - val_loss: 1.8115 - val_accuracy: 0.8571 - val_precision: 0.0000e+00 - val_recall: 0.0000e+00 - val_auc: 0.6484 - val_f1_score: 0.0000e+00 - lr: 0.0010\n",
            "Epoch 4/600\n",
            "180/180 [==============================] - 868s 5s/step - loss: 1.7825 - accuracy: 0.8573 - precision: 0.5236 - recall: 0.0097 - auc: 0.6718 - f1_score: 0.0188 - val_loss: 1.7254 - val_accuracy: 0.8586 - val_precision: 0.7521 - val_recall: 0.0153 - val_auc: 0.7019 - val_f1_score: 0.0299 - lr: 0.0010\n",
            "Epoch 5/600\n",
            "180/180 [==============================] - 863s 5s/step - loss: 1.7476 - accuracy: 0.8577 - precision: 0.5637 - recall: 0.0187 - auc: 0.6918 - f1_score: 0.0359 - val_loss: 1.7344 - val_accuracy: 0.8595 - val_precision: 0.7527 - val_recall: 0.0244 - val_auc: 0.7005 - val_f1_score: 0.0470 - lr: 0.0010\n",
            "Epoch 6/600\n",
            "180/180 [==============================] - 866s 5s/step - loss: 1.7978 - accuracy: 0.8576 - precision: 0.6123 - recall: 0.0087 - auc: 0.6601 - f1_score: 0.0168 - val_loss: 1.8217 - val_accuracy: 0.8571 - val_precision: 0.0000e+00 - val_recall: 0.0000e+00 - val_auc: 0.6498 - val_f1_score: 0.0000e+00 - lr: 0.0010\n",
            "Epoch 7/600\n",
            "180/180 [==============================] - 864s 5s/step - loss: 1.7800 - accuracy: 0.8575 - precision: 0.5831 - recall: 0.0081 - auc: 0.6715 - f1_score: 0.0158 - val_loss: 1.8102 - val_accuracy: 0.8571 - val_precision: 0.0000e+00 - val_recall: 0.0000e+00 - val_auc: 0.6543 - val_f1_score: 0.0000e+00 - lr: 0.0010\n",
            "Epoch 8/600\n",
            "180/180 [==============================] - 860s 5s/step - loss: 1.7637 - accuracy: 0.8578 - precision: 0.5935 - recall: 0.0142 - auc: 0.6818 - f1_score: 0.0276 - val_loss: 1.7979 - val_accuracy: 0.8571 - val_precision: 0.0000e+00 - val_recall: 0.0000e+00 - val_auc: 0.6604 - val_f1_score: 0.0000e+00 - lr: 0.0010\n",
            "Epoch 9/600\n",
            "180/180 [==============================] - 868s 5s/step - loss: 1.7328 - accuracy: 0.8582 - precision: 0.6056 - recall: 0.0216 - auc: 0.6981 - f1_score: 0.0414 - val_loss: 1.7685 - val_accuracy: 0.8571 - val_precision: 0.0000e+00 - val_recall: 0.0000e+00 - val_auc: 0.6752 - val_f1_score: 0.0000e+00 - lr: 0.0010\n",
            "Epoch 10/600\n",
            "180/180 [==============================] - 871s 5s/step - loss: 1.7159 - accuracy: 0.8586 - precision: 0.6173 - recall: 0.0263 - auc: 0.7062 - f1_score: 0.0506 - val_loss: 1.8087 - val_accuracy: 0.8571 - val_precision: 0.0000e+00 - val_recall: 0.0000e+00 - val_auc: 0.6619 - val_f1_score: 0.0000e+00 - lr: 0.0010\n",
            "Epoch 11/600\n",
            "180/180 [==============================] - 865s 5s/step - loss: 1.7134 - accuracy: 0.8586 - precision: 0.6204 - recall: 0.0263 - auc: 0.7078 - f1_score: 0.0503 - val_loss: 2.0324 - val_accuracy: 0.8531 - val_precision: 0.0341 - val_recall: 0.0010 - val_auc: 0.6820 - val_f1_score: 0.0020 - lr: 0.0010\n",
            "Epoch 12/600\n",
            "180/180 [==============================] - 870s 5s/step - loss: 1.7078 - accuracy: 0.8590 - precision: 0.6442 - recall: 0.0288 - auc: 0.7106 - f1_score: 0.0549 - val_loss: 1.6981 - val_accuracy: 0.8587 - val_precision: 0.8000 - val_recall: 0.0146 - val_auc: 0.7154 - val_f1_score: 0.0286 - lr: 0.0010\n"
          ]
        }
      ],
      "source": [
        "\n",
        "history=model.fit(train_dataset,validation_data=valid_dataset,epochs = 600,verbose = 1,callbacks=[lrd,mcp,es])\n",
        "\n"
      ]
    },
    {
      "cell_type": "code",
      "execution_count": null,
      "metadata": {
        "colab": {
          "background_save": true
        },
        "id": "6NU-BI_u2X68"
      },
      "outputs": [],
      "source": [
        "#%% PLOTTING RESULTS (Train vs Validation FOLDER 1)\n",
        "\n",
        "def Train_Val_Plot(acc,val_acc,loss,val_loss,auc,val_auc,precision,val_precision,f1,val_f1):\n",
        "    \n",
        "    fig, (ax1, ax2,ax3,ax4,ax5) = plt.subplots(1,5, figsize= (20,5))\n",
        "    fig.suptitle(\" MODEL'S METRICS VISUALIZATION \")\n",
        "\n",
        "    ax1.plot(range(1, len(acc) + 1), acc)\n",
        "    ax1.plot(range(1, len(val_acc) + 1), val_acc)\n",
        "    ax1.set_title('History of Accuracy')\n",
        "    ax1.set_xlabel('Epochs')\n",
        "    ax1.set_ylabel('Accuracy')\n",
        "    ax1.legend(['training', 'validation'])\n",
        "\n",
        "\n",
        "    ax2.plot(range(1, len(loss) + 1), loss)\n",
        "    ax2.plot(range(1, len(val_loss) + 1), val_loss)\n",
        "    ax2.set_title('History of Loss')\n",
        "    ax2.set_xlabel('Epochs')\n",
        "    ax2.set_ylabel('Loss')\n",
        "    ax2.legend(['training', 'validation'])\n",
        "    \n",
        "    ax3.plot(range(1, len(auc) + 1), auc)\n",
        "    ax3.plot(range(1, len(val_auc) + 1), val_auc)\n",
        "    ax3.set_title('History of AUC')\n",
        "    ax3.set_xlabel('Epochs')\n",
        "    ax3.set_ylabel('AUC')\n",
        "    ax3.legend(['training', 'validation'])\n",
        "    \n",
        "    ax4.plot(range(1, len(precision) + 1), precision)\n",
        "    ax4.plot(range(1, len(val_precision) + 1), val_precision)\n",
        "    ax4.set_title('History of Precision')\n",
        "    ax4.set_xlabel('Epochs')\n",
        "    ax4.set_ylabel('Precision')\n",
        "    ax4.legend(['training', 'validation'])\n",
        "    \n",
        "    ax5.plot(range(1, len(f1) + 1), f1)\n",
        "    ax5.plot(range(1, len(val_f1) + 1), val_f1)\n",
        "    ax5.set_title('History of F1-score')\n",
        "    ax5.set_xlabel('Epochs')\n",
        "    ax5.set_ylabel('F1 score')\n",
        "    ax5.legend(['training', 'validation'])\n",
        "    \n",
        "    plt.show()\n",
        "    \n",
        "  \n",
        "    "
      ]
    },
    {
      "cell_type": "code",
      "execution_count": null,
      "metadata": {
        "colab": {
          "background_save": true
        },
        "id": "vNFySod72Yf5",
        "outputId": "e48dfb9f-f446-4122-bb45-6df39cc8307d"
      },
      "outputs": [
        {
          "data": {
            "image/png": "[encoded data removed]",
            "text/plain": [
              "<Figure size 1440x360 with 5 Axes>"
            ]
          },
          "metadata": {},
          "output_type": "display_data"
        }
      ],
      "source": [
        "Train_Val_Plot(history.history['accuracy'],history.history['val_accuracy'],\n",
        "               history.history['loss'],history.history['val_loss'],\n",
        "               history.history['auc'],history.history['val_auc'],\n",
        "               history.history['precision'],history.history['val_precision'],\n",
        "               history.history['f1_score'],history.history['val_f1_score']\n",
        "              )"
      ]
    },
    {
      "cell_type": "code",
      "execution_count": null,
      "metadata": {
        "id": "_HEMJ8wfumIN"
      },
      "outputs": [],
      "source": [
        "result = model.evaluate(test_dataset)\n",
        "print(\"test loss, test acc:\", result)"
      ]
    },
    {
      "cell_type": "code",
      "execution_count": null,
      "metadata": {
        "colab": {
          "background_save": true
        },
        "id": "aTlruXcTvMYh"
      },
      "outputs": [],
      "source": [
        "#%% PLOTTING RESULTS (Train vs Validation FOLDER 1)\n",
        "\n",
        "def Train_Test_Plot(acc,val_acc,loss,val_loss,auc,val_auc,precision,val_precision,f1,val_f1):\n",
        "    \n",
        "    fig, (ax1, ax2,ax3,ax4,ax5) = plt.subplots(1,5, figsize= (20,5))\n",
        "    fig.suptitle(\" MODEL'S METRICS VISUALIZATION \")\n",
        "\n",
        "    ax1.plot(range(1, len(acc) + 1), acc)\n",
        "    ax1.plot(range(1, len(val_acc) + 1), val_acc)\n",
        "    ax1.set_title('History of Accuracy')\n",
        "    ax1.set_xlabel('Epochs')\n",
        "    ax1.set_ylabel('Accuracy')\n",
        "    ax1.legend(['training', 'testing'])\n",
        "\n",
        "\n",
        "    ax2.plot(range(1, len(loss) + 1), loss)\n",
        "    ax2.plot(range(1, len(val_loss) + 1), val_loss)\n",
        "    ax2.set_title('History of Loss')\n",
        "    ax2.set_xlabel('Epochs')\n",
        "    ax2.set_ylabel('Loss')\n",
        "    ax2.legend(['training', 'testing'])\n",
        "    \n",
        "    ax3.plot(range(1, len(auc) + 1), auc)\n",
        "    ax3.plot(range(1, len(val_auc) + 1), val_auc)\n",
        "    ax3.set_title('History of AUC')\n",
        "    ax3.set_xlabel('Epochs')\n",
        "    ax3.set_ylabel('AUC')\n",
        "    ax3.legend(['training', 'testing'])\n",
        "    \n",
        "    ax4.plot(range(1, len(precision) + 1), precision)\n",
        "    ax4.plot(range(1, len(val_precision) + 1), val_precision)\n",
        "    ax4.set_title('History of Precision')\n",
        "    ax4.set_xlabel('Epochs')\n",
        "    ax4.set_ylabel('Precision')\n",
        "    ax4.legend(['training', 'testing'])\n",
        "    \n",
        "    ax5.plot(range(1, len(f1) + 1), f1)\n",
        "    ax5.plot(range(1, len(val_f1) + 1), val_f1)\n",
        "    ax5.set_title('History of F1-score')\n",
        "    ax5.set_xlabel('Epochs')\n",
        "    ax5.set_ylabel('F1 score')\n",
        "    ax5.legend(['training', 'testing'])\n",
        "    \n",
        "    plt.show()\n",
        "    \n",
        "  \n",
        "    "
      ]
    },
    {
      "cell_type": "code",
      "execution_count": null,
      "metadata": {
        "id": "DMDYLnGy_m4L"
      },
      "outputs": [],
      "source": [
        "Train_Test_Plot(history.history['accuracy'],history.history['val_accuracy'],\n",
        "               history.history['loss'],history.history['val_loss'],\n",
        "               history.history['auc'],history.history['val_auc'],\n",
        "               history.history['precision'],history.history['val_precision'],\n",
        "               history.history['f1_score'],history.history['val_f1_score']\n",
        "              )"
      ]
    }
  ],
  "metadata": {
    "accelerator": "GPU",
    "colab": {
      "collapsed_sections": [],
      "name": "Copy of VGG16-FACIAL-training.ipynb",
      "provenance": [],
      "toc_visible": true,
      "mount_file_id": "1lJ2Fzc5Vj5xC94pZ1GFK_9VgGA3HQ7H_",
      "authorship_tag": "ABX9TyP2iT5vMQiVTzBtiL8/uO5p",
      "include_colab_link": true
    },
    "gpuClass": "standard",
    "kernelspec": {
      "display_name": "Python 3",
      "name": "python3"
    },
    "language_info": {
      "name": "python"
    }
  },
  "nbformat": 4,
  "nbformat_minor": 0
}